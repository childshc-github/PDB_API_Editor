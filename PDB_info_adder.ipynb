{
 "cells": [
  {
   "cell_type": "code",
   "execution_count": 7,
   "id": "ca39b638-b3d1-4536-b077-78557ad8cd45",
   "metadata": {
    "execution": {
     "iopub.execute_input": "2023-04-18T14:40:51.226796Z",
     "iopub.status.busy": "2023-04-18T14:40:51.226796Z",
     "iopub.status.idle": "2023-04-18T14:40:51.230711Z",
     "shell.execute_reply": "2023-04-18T14:40:51.230711Z",
     "shell.execute_reply.started": "2023-04-18T14:40:51.226796Z"
    },
    "tags": []
   },
   "outputs": [],
   "source": [
    "#import libraries\n",
    "import csv\n",
    "import requests\n",
    "import pandas as pd"
   ]
  },
  {
   "cell_type": "code",
   "execution_count": 8,
   "id": "b454100e-3b69-4fa5-be84-4cec4b89644a",
   "metadata": {
    "execution": {
     "iopub.execute_input": "2023-04-18T14:41:05.726114Z",
     "iopub.status.busy": "2023-04-18T14:41:05.726114Z",
     "iopub.status.idle": "2023-04-18T14:41:05.731136Z",
     "shell.execute_reply": "2023-04-18T14:41:05.730621Z",
     "shell.execute_reply.started": "2023-04-18T14:41:05.726114Z"
    },
    "tags": []
   },
   "outputs": [],
   "source": [
    "# create description dataframe to store pdb id, structure title\n",
    "ddf = pd.DataFrame({'PDB ID' : [],\n",
    "                    'Description' : []})\n",
    "\n",
    "# Alter Entry Attributes query here\n",
    "query_category = \"struct\"\n",
    "query_item = \"title\""
   ]
  },
  {
   "cell_type": "code",
   "execution_count": 9,
   "id": "123e4f78-66b1-41e4-9e98-fe23e7f02668",
   "metadata": {
    "execution": {
     "iopub.execute_input": "2023-04-18T14:41:29.849747Z",
     "iopub.status.busy": "2023-04-18T14:41:29.849747Z",
     "iopub.status.idle": "2023-04-18T14:45:35.267965Z",
     "shell.execute_reply": "2023-04-18T14:45:35.267965Z",
     "shell.execute_reply.started": "2023-04-18T14:41:29.849747Z"
    },
    "tags": []
   },
   "outputs": [],
   "source": [
    "# iterate through old TSV file to create new column\n",
    "with open(\"./SASA_kCAL01.tsv\", 'r') as file:\n",
    "    \n",
    "    reader = csv.reader(file, delimiter=\"\\t\")\n",
    "    \n",
    "    #skip header line\n",
    "    next(file)\n",
    "    \n",
    "    for row in reader:\n",
    "        #handle empty rows from DSSP errors + bad SASA\n",
    "        if (not (row)) or (row[8] != \"OK\"):\n",
    "            continue\n",
    "        \n",
    "        # pull the PDB id from tsv\n",
    "        pdb_num = row[0]\n",
    "\n",
    "        # format request content\n",
    "        payload = 'https://data.rcsb.org/graphql?query={entry(entry_id:\"INSERT_ID\"){INSERT_C{INSERT_I}}}'\n",
    "        payload = payload.replace(\"INSERT_ID\", pdb_num, 1)\n",
    "        payload = payload.replace(\"INSERT_C\", query_category, 1)\n",
    "        payload = payload.replace(\"INSERT_I\", query_item, 1)\n",
    "        \n",
    "        # get response object from GraphQL\n",
    "        r = requests.get(payload)\n",
    "\n",
    "        # error handling\n",
    "        r.raise_for_status()\n",
    "\n",
    "        # parse JSON response content\n",
    "        response = r.json()\n",
    "        descriptor = response['data']['entry'][query_category][query_item]\n",
    "\n",
    "        # append descriptor to DataFrame\n",
    "        ddf.loc[len(ddf.index)] = [pdb_num, descriptor]"
   ]
  },
  {
   "cell_type": "code",
   "execution_count": 10,
   "id": "24334674-2aa3-45d0-9c97-f22af24bc080",
   "metadata": {
    "execution": {
     "iopub.execute_input": "2023-04-18T14:47:57.007743Z",
     "iopub.status.busy": "2023-04-18T14:47:57.007743Z",
     "iopub.status.idle": "2023-04-18T14:47:57.039625Z",
     "shell.execute_reply": "2023-04-18T14:47:57.039625Z",
     "shell.execute_reply.started": "2023-04-18T14:47:57.007743Z"
    },
    "tags": []
   },
   "outputs": [],
   "source": [
    "# create df from TSV + merge\n",
    "tsv_df = pd.read_csv(\"./SASA_kCAL01.tsv\", delimiter='\\t')\n",
    "tsv_df = tsv_df.merge(ddf, on=[\"PDB ID\"], how='left')\n",
    "tsv_df.drop_duplicates(subset=[\"Struct\"], keep='first', inplace=True)\n",
    "\n",
    "# trim rows w/ no description (bad SASA)\n",
    "tsv_df.drop(tsv_df[tsv_df['Surface?'] == \"Bad\"].index, inplace=True)\n",
    "\n",
    "# output new tsv\n",
    "tsv_df.to_csv('Descript_kCAL01.tsv', index=False, sep='\\t')"
   ]
  },
  {
   "cell_type": "code",
   "execution_count": null,
   "id": "db95e8a2-9236-4915-8363-3a1d8ffeb85c",
   "metadata": {},
   "outputs": [],
   "source": []
  }
 ],
 "metadata": {
  "kernelspec": {
   "display_name": "Python 3 (ipykernel)",
   "language": "python",
   "name": "python3"
  },
  "language_info": {
   "codemirror_mode": {
    "name": "ipython",
    "version": 3
   },
   "file_extension": ".py",
   "mimetype": "text/x-python",
   "name": "python",
   "nbconvert_exporter": "python",
   "pygments_lexer": "ipython3",
   "version": "3.11.2"
  }
 },
 "nbformat": 4,
 "nbformat_minor": 5
}
